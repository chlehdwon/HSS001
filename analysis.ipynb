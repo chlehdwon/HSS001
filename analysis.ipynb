{
 "cells": [
  {
   "cell_type": "code",
   "execution_count": 214,
   "metadata": {},
   "outputs": [],
   "source": [
    "import numpy as np\n",
    "import pandas as pd\n",
    "import openpyxl\n",
    "from collections import defaultdict\n",
    "from pprint import pprint\n",
    "import matplotlib.pyplot as plt\n",
    "import json"
   ]
  },
  {
   "cell_type": "code",
   "execution_count": 215,
   "metadata": {},
   "outputs": [],
   "source": [
    "wb = openpyxl.load_workbook('식습관DB_2024.xlsx')\n",
    "\n",
    "df_dict  = {}\n",
    "for sn in wb.sheetnames:\n",
    "    data = wb[sn].values\n",
    "    columns = next(data)[:]\n",
    "    df = pd.DataFrame(data, columns=columns)\n",
    "    if None in df.columns:\n",
    "        df = df.drop(columns=[None])\n",
    "    df_dict[sn[:4]] = df"
   ]
  },
  {
   "cell_type": "code",
   "execution_count": 216,
   "metadata": {},
   "outputs": [
    {
     "data": {
      "text/html": [
       "<div>\n",
       "<style scoped>\n",
       "    .dataframe tbody tr th:only-of-type {\n",
       "        vertical-align: middle;\n",
       "    }\n",
       "\n",
       "    .dataframe tbody tr th {\n",
       "        vertical-align: top;\n",
       "    }\n",
       "\n",
       "    .dataframe thead th {\n",
       "        text-align: right;\n",
       "    }\n",
       "</style>\n",
       "<table border=\"1\" class=\"dataframe\">\n",
       "  <thead>\n",
       "    <tr style=\"text-align: right;\">\n",
       "      <th></th>\n",
       "      <th>피험자번호</th>\n",
       "      <th>성별</th>\n",
       "      <th>연령(만)</th>\n",
       "      <th>체중유형</th>\n",
       "      <th>거주유형</th>\n",
       "      <th>전공영역</th>\n",
       "      <th>요일</th>\n",
       "      <th>식사전스트레스지수</th>\n",
       "      <th>식사유형</th>\n",
       "      <th>식사위치</th>\n",
       "      <th>음식유형</th>\n",
       "      <th>가격</th>\n",
       "      <th>식사만족도</th>\n",
       "      <th>함께한사람</th>\n",
       "      <th>이동시간</th>\n",
       "      <th>식사시간</th>\n",
       "      <th>이동수단</th>\n",
       "    </tr>\n",
       "  </thead>\n",
       "  <tbody>\n",
       "    <tr>\n",
       "      <th>0</th>\n",
       "      <td>B01</td>\n",
       "      <td>남성</td>\n",
       "      <td>19</td>\n",
       "      <td>표준체중</td>\n",
       "      <td>기숙사</td>\n",
       "      <td>공과대학</td>\n",
       "      <td>금</td>\n",
       "      <td>3</td>\n",
       "      <td>점심</td>\n",
       "      <td>기숙사</td>\n",
       "      <td>인스턴트</td>\n",
       "      <td>3000</td>\n",
       "      <td>약간만족</td>\n",
       "      <td>혼밥</td>\n",
       "      <td>없음</td>\n",
       "      <td>15분이내</td>\n",
       "      <td>없음</td>\n",
       "    </tr>\n",
       "    <tr>\n",
       "      <th>1</th>\n",
       "      <td>B01</td>\n",
       "      <td>남성</td>\n",
       "      <td>19</td>\n",
       "      <td>표준체중</td>\n",
       "      <td>기숙사</td>\n",
       "      <td>공과대학</td>\n",
       "      <td>금</td>\n",
       "      <td>2</td>\n",
       "      <td>저녁</td>\n",
       "      <td>북측</td>\n",
       "      <td>한식</td>\n",
       "      <td>6000</td>\n",
       "      <td>약간만족</td>\n",
       "      <td>다밥</td>\n",
       "      <td>15분이내</td>\n",
       "      <td>30분이내</td>\n",
       "      <td>도보</td>\n",
       "    </tr>\n",
       "    <tr>\n",
       "      <th>2</th>\n",
       "      <td>B01</td>\n",
       "      <td>남성</td>\n",
       "      <td>19</td>\n",
       "      <td>표준체중</td>\n",
       "      <td>기숙사</td>\n",
       "      <td>공과대학</td>\n",
       "      <td>토</td>\n",
       "      <td>1</td>\n",
       "      <td>점심</td>\n",
       "      <td>기숙사</td>\n",
       "      <td>인스턴트</td>\n",
       "      <td>4000</td>\n",
       "      <td>약간만족</td>\n",
       "      <td>혼밥</td>\n",
       "      <td>없음</td>\n",
       "      <td>15분이내</td>\n",
       "      <td>없음</td>\n",
       "    </tr>\n",
       "    <tr>\n",
       "      <th>3</th>\n",
       "      <td>B01</td>\n",
       "      <td>남성</td>\n",
       "      <td>19</td>\n",
       "      <td>표준체중</td>\n",
       "      <td>기숙사</td>\n",
       "      <td>공과대학</td>\n",
       "      <td>토</td>\n",
       "      <td>2</td>\n",
       "      <td>저녁</td>\n",
       "      <td>대전기타</td>\n",
       "      <td>한식</td>\n",
       "      <td>14000</td>\n",
       "      <td>만족</td>\n",
       "      <td>다밥</td>\n",
       "      <td>30분이내</td>\n",
       "      <td>30분이상</td>\n",
       "      <td>기타</td>\n",
       "    </tr>\n",
       "    <tr>\n",
       "      <th>4</th>\n",
       "      <td>B01</td>\n",
       "      <td>남성</td>\n",
       "      <td>19</td>\n",
       "      <td>표준체중</td>\n",
       "      <td>기숙사</td>\n",
       "      <td>공과대학</td>\n",
       "      <td>일</td>\n",
       "      <td>2</td>\n",
       "      <td>점심</td>\n",
       "      <td>기숙사</td>\n",
       "      <td>인스턴트</td>\n",
       "      <td>4000</td>\n",
       "      <td>약간만족</td>\n",
       "      <td>혼밥</td>\n",
       "      <td>없음</td>\n",
       "      <td>15분이내</td>\n",
       "      <td>없음</td>\n",
       "    </tr>\n",
       "  </tbody>\n",
       "</table>\n",
       "</div>"
      ],
      "text/plain": [
       "  피험자번호  성별  연령(만)  체중유형 거주유형  전공영역 요일  식사전스트레스지수 식사유형  식사위치  음식유형     가격  \\\n",
       "0   B01  남성     19  표준체중  기숙사  공과대학  금          3   점심   기숙사  인스턴트   3000   \n",
       "1   B01  남성     19  표준체중  기숙사  공과대학  금          2   저녁    북측    한식   6000   \n",
       "2   B01  남성     19  표준체중  기숙사  공과대학  토          1   점심   기숙사  인스턴트   4000   \n",
       "3   B01  남성     19  표준체중  기숙사  공과대학  토          2   저녁  대전기타    한식  14000   \n",
       "4   B01  남성     19  표준체중  기숙사  공과대학  일          2   점심   기숙사  인스턴트   4000   \n",
       "\n",
       "  식사만족도 함께한사람   이동시간   식사시간 이동수단  \n",
       "0  약간만족    혼밥     없음  15분이내   없음  \n",
       "1  약간만족    다밥  15분이내  30분이내   도보  \n",
       "2  약간만족    혼밥     없음  15분이내   없음  \n",
       "3    만족    다밥  30분이내  30분이상   기타  \n",
       "4  약간만족    혼밥     없음  15분이내   없음  "
      ]
     },
     "execution_count": 216,
     "metadata": {},
     "output_type": "execute_result"
    }
   ],
   "source": [
    "df_dict['2023'].head(5)"
   ]
  },
  {
   "cell_type": "code",
   "execution_count": 217,
   "metadata": {},
   "outputs": [
    {
     "name": "stdout",
     "output_type": "stream",
     "text": [
      "896\n",
      "753\n",
      "857\n",
      "898\n",
      "3404\n"
     ]
    }
   ],
   "source": [
    "print(len(df_dict['2018']))\n",
    "print(len(df_dict['2021']))\n",
    "print(len(df_dict['2023']))\n",
    "print(len(df_dict['2024']))\n",
    "print(896 + 753 + 857 + 898)"
   ]
  },
  {
   "cell_type": "markdown",
   "metadata": {},
   "source": [
    "## 데이터 요약"
   ]
  },
  {
   "cell_type": "markdown",
   "metadata": {},
   "source": [
    "### 성별"
   ]
  },
  {
   "cell_type": "code",
   "execution_count": 218,
   "metadata": {},
   "outputs": [
    {
     "name": "stdout",
     "output_type": "stream",
     "text": [
      "2024 성별 분포: \n",
      "{'남성': 30, '여성': 13}\n",
      "2023 성별 분포: \n",
      "{'남성': 31, '여성': 15}\n",
      "2021 성별 분포: \n",
      "{'남성': 30, '여성': 9}\n",
      "2018 성별 분포: \n",
      "{'남성': 35, '여성': 14}\n",
      "전체 성별 분포: \n",
      "{'남성': 126, '여성': 51}\n"
     ]
    }
   ],
   "source": [
    "view = \"성별\"\n",
    "tot_dict = defaultdict(int)\n",
    "for key in df_dict.keys():\n",
    "    df = df_dict[key]\n",
    "    view_dict = defaultdict(int)\n",
    "    df_group = df.groupby('피험자번호').first()[view]\n",
    "    for i in df_group:\n",
    "        view_dict[i] += 1\n",
    "    print(f\"{key} {view} 분포: \")\n",
    "    pprint(json.loads(json.dumps(view_dict)))\n",
    "    for key, value in view_dict.items():\n",
    "        tot_dict[key] += value\n",
    "print(f\"전체 {view} 분포: \")\n",
    "pprint(json.loads(json.dumps(tot_dict)))"
   ]
  },
  {
   "cell_type": "markdown",
   "metadata": {},
   "source": [
    "### 학번"
   ]
  },
  {
   "cell_type": "code",
   "execution_count": 219,
   "metadata": {},
   "outputs": [
    {
     "name": "stdout",
     "output_type": "stream",
     "text": [
      "2024 나이 분포: \n",
      "{'19': 1, '20': 7, '21': 5, '22': 8, '23': 13, '24': 7, '25': 1, '27': 1}\n",
      "2023 나이 분포: \n",
      "{'19': 3, '20': 4, '21': 14, '22': 11, '23': 4, '24': 8, '26': 2}\n",
      "2021 나이 분포: \n",
      "{'18': 1, '20': 5, '21': 8, '22': 6, '23': 11, '24': 5, '25': 2, '26': 1}\n",
      "2018 나이 분포: \n",
      "{'19': 1, '20': 13, '21': 15, '22': 5, '23': 7, '24': 6, '25': 2}\n",
      "전체 나이 분포: \n",
      "{'18': 1,\n",
      " '19': 5,\n",
      " '20': 29,\n",
      " '21': 42,\n",
      " '22': 30,\n",
      " '23': 35,\n",
      " '24': 26,\n",
      " '25': 5,\n",
      " '26': 3,\n",
      " '27': 1}\n"
     ]
    }
   ],
   "source": [
    "view = \"연령(만)\"\n",
    "age_tot_dict = defaultdict(int)\n",
    "for key in df_dict.keys():\n",
    "    df = df_dict[key]\n",
    "    age_dict = defaultdict(int)\n",
    "    ages = df.groupby('피험자번호').first()[view]\n",
    "    for i in ages:\n",
    "        age_dict[i] += 1\n",
    "    print(f\"{key} 나이 분포: \")\n",
    "    pprint(json.loads(json.dumps(age_dict)))\n",
    "    for key, value in age_dict.items():\n",
    "        age_tot_dict[key] += value\n",
    "print(f\"전체 나이 분포: \")\n",
    "pprint(json.loads(json.dumps(age_tot_dict)))"
   ]
  },
  {
   "cell_type": "markdown",
   "metadata": {},
   "source": [
    "### 거주 유형"
   ]
  },
  {
   "cell_type": "code",
   "execution_count": 220,
   "metadata": {},
   "outputs": [
    {
     "name": "stdout",
     "output_type": "stream",
     "text": [
      "2023 거주유형 분포: \n",
      "{'기숙사': 31, '본가': 1, '자취': 14}\n",
      "2024 거주유형 분포: \n",
      "{'기숙사': 32, '자취': 11}\n",
      "전체 거주유형 분포: \n",
      "{'기숙사': 63, '본가': 1, '자취': 25}\n"
     ]
    }
   ],
   "source": [
    "view = \"거주유형\"\n",
    "tot_dict = defaultdict(int)\n",
    "for key in ['2023', '2024']:\n",
    "    df = df_dict[key]\n",
    "    view_dict = defaultdict(int)\n",
    "    df_group = df.groupby('피험자번호').first()[view]\n",
    "    for i in df_group:\n",
    "        view_dict[i] += 1\n",
    "    print(f\"{key} {view} 분포: \")\n",
    "    pprint(json.loads(json.dumps(view_dict)))\n",
    "    for key, value in view_dict.items():\n",
    "        tot_dict[key] += value\n",
    "print(f\"전체 {view} 분포: \")\n",
    "pprint(json.loads(json.dumps(tot_dict)))"
   ]
  },
  {
   "cell_type": "markdown",
   "metadata": {},
   "source": [
    "### 체중 유형"
   ]
  },
  {
   "cell_type": "code",
   "execution_count": 221,
   "metadata": {},
   "outputs": [
    {
     "name": "stdout",
     "output_type": "stream",
     "text": [
      "2024 체중유형 분포: \n",
      "{'과체중': 7, '저체중': 2, '표준체중': 34}\n",
      "2023 체중유형 분포: \n",
      "{'과체중': 10, '저체중': 4, '표준체중': 32}\n",
      "2021 체중유형 분포: \n",
      "{'과체중': 6, '저체중': 2, '표준체중': 31}\n",
      "2018 체중유형 분포: \n",
      "{'과체중': 7, '저체중': 7, '표준체중': 35}\n",
      "전체 체중유형 분포: \n",
      "{'과체중': 30, '저체중': 15, '표준체중': 132}\n"
     ]
    }
   ],
   "source": [
    "view = \"체중유형\"\n",
    "tot_dict = defaultdict(int)\n",
    "for key in df_dict.keys():\n",
    "    df = df_dict[key]\n",
    "    view_dict = defaultdict(int)\n",
    "    df_group = df.groupby('피험자번호').first()[view]\n",
    "    for i in df_group:\n",
    "        view_dict[i] += 1\n",
    "    print(f\"{key} {view} 분포: \")\n",
    "    pprint(json.loads(json.dumps(view_dict)))\n",
    "    for key, value in view_dict.items():\n",
    "        tot_dict[key] += value\n",
    "print(f\"전체 {view} 분포: \")\n",
    "pprint(json.loads(json.dumps(tot_dict)))"
   ]
  },
  {
   "cell_type": "markdown",
   "metadata": {},
   "source": [
    "## 데이터 분석"
   ]
  },
  {
   "cell_type": "markdown",
   "metadata": {},
   "source": [
    "### 아침 결식률의 변화"
   ]
  },
  {
   "cell_type": "code",
   "execution_count": 222,
   "metadata": {},
   "outputs": [],
   "source": [
    "def get_breakfast(year):\n",
    "    df = df_dict[year]\n",
    "    df_g = df.groupby(['피험자번호'])\n",
    "    breakfast = 0\n",
    "    for _, group in df_g:\n",
    "        breakfast += np.sum(group['식사유형']=='아침')\n",
    "    return breakfast , len(df_g)"
   ]
  },
  {
   "cell_type": "code",
   "execution_count": 223,
   "metadata": {},
   "outputs": [
    {
     "name": "stdout",
     "output_type": "stream",
     "text": [
      "코로나-19 이전 아침 결식률: 81.34\n",
      "코로나-19 중 아침 결식률: 74.36\n",
      "코로나-19 이후 아침 결식률: 79.61\n"
     ]
    }
   ],
   "source": [
    "# 코로나-19 이전\n",
    "bf_1, people_1 = get_breakfast('2018')\n",
    "print(f\"코로나-19 이전 아침 결식률: {100 * (1 - bf_1/(people_1*7)):.2f}\")\n",
    "\n",
    "# 코로나-19 중\n",
    "bf_2, people_2 = get_breakfast('2021')\n",
    "print(f\"코로나-19 중 아침 결식률: {100 * (1 - bf_2/(people_2*7)):.2f}\")\n",
    "\n",
    "# 코로나-19 이후\n",
    "bf_3, people_3 = get_breakfast('2023')\n",
    "bf_4, people_4 = get_breakfast('2024')\n",
    "print(f\"코로나-19 이후 아침 결식률: {100 * (1 - (bf_3+bf_4)/((people_3+people_4)*7)):.2f}\")"
   ]
  },
  {
   "cell_type": "markdown",
   "metadata": {},
   "source": [
    "### 식사 위치의 변화"
   ]
  },
  {
   "cell_type": "code",
   "execution_count": 224,
   "metadata": {},
   "outputs": [],
   "source": [
    "# 동측, 서측, 북측 => 학교내부\n",
    "# 기숙사, 집 => 집\n",
    "# 궁동, 대전기타, 둔산동, 대전외지역, 어은동 => 학교외부\n",
    "place_set, place_map = set(), {}\n",
    "\n",
    "for key in df_dict.keys():\n",
    "    df = df_dict[key]\n",
    "    place_set = place_set.union(set(df['식사위치']))\n",
    "\n",
    "for place in place_set:\n",
    "    if place in ['기숙사', '집']:\n",
    "        place_map[place] = '집'\n",
    "    elif place in ['동측', '서측', '북측']:\n",
    "        place_map[place] = '학교내부'\n",
    "    else:\n",
    "        place_map[place] = '학교외부'"
   ]
  },
  {
   "cell_type": "code",
   "execution_count": 225,
   "metadata": {},
   "outputs": [],
   "source": [
    "def get_places(year):\n",
    "    df = df_dict[year]\n",
    "    filt = df['식사유형'].isin(['아침', '점심', '저녁'])\n",
    "    df = df[filt]\n",
    "    df.loc[:, '식사위치'] = df['식사위치'].apply(lambda x: place_map[x])\n",
    "    counts = dict(df['식사위치'].value_counts())\n",
    "\n",
    "    return counts"
   ]
  },
  {
   "cell_type": "code",
   "execution_count": 226,
   "metadata": {},
   "outputs": [
    {
     "name": "stdout",
     "output_type": "stream",
     "text": [
      "코로나-19 이전 식사 위치 분포: \n",
      "{'집': 161, '학교내부': 228, '학교외부': 254}\n",
      "코로나-19 중 식사 위치 분포: \n",
      "{'집': 335, '학교내부': 74, '학교외부': 152}\n",
      "코로나-19 이후 식사 위치 분포: \n",
      "{'집': 497, '학교내부': 360, '학교외부': 342}\n"
     ]
    }
   ],
   "source": [
    "# 코로나-19 이전\n",
    "pcounts_1 = get_places('2018')\n",
    "print(f\"코로나-19 이전 식사 위치 분포: \")\n",
    "pprint(pcounts_1)\n",
    "\n",
    "# 코로나-19 중\n",
    "pcounts_2 = get_places('2021')\n",
    "print(f\"코로나-19 중 식사 위치 분포: \")\n",
    "pprint(pcounts_2)\n",
    "\n",
    "# 코로나-19 이후\n",
    "pcounts_3 = get_places('2023')\n",
    "pcounts_4 = get_places('2024')\n",
    "pcounts_5 = defaultdict(int)\n",
    "for k, v in pcounts_3.items():\n",
    "    pcounts_5[k] += v\n",
    "for k, v in pcounts_4.items():\n",
    "    pcounts_5[k] += v\n",
    "\n",
    "print(f\"코로나-19 이후 식사 위치 분포: \")\n",
    "pprint(dict(pcounts_5))"
   ]
  },
  {
   "cell_type": "code",
   "execution_count": 227,
   "metadata": {},
   "outputs": [
    {
     "data": {
      "image/png": "[encoded data removed]",
      "text/plain": [
       "<Figure size 640x480 with 1 Axes>"
      ]
     },
     "metadata": {},
     "output_type": "display_data"
    }
   ],
   "source": [
    "import matplotlib.pyplot as plt\n",
    "import numpy as np\n",
    "plt.rcParams['font.family'] ='AppleGothic'\n",
    "plt.rcParams['axes.unicode_minus'] =False\n",
    "# 데이터 설정\n",
    "labels = ['코로나-19 이전', '코로나-19 중', '코로나-19 이후']\n",
    "house = [161, 335, 497]\n",
    "school_inside = [228, 74, 360]\n",
    "school_outside = [254, 152, 342]\n",
    "\n",
    "x = np.arange(len(labels))  # x축 위치\n",
    "width = 0.2  # 막대 폭\n",
    "\n",
    "fig, ax = plt.subplots()\n",
    "rects1 = ax.bar(x - width, house, width, label='집')\n",
    "rects2 = ax.bar(x, school_inside, width, label='학교 내부')\n",
    "rects3 = ax.bar(x + width, school_outside, width, label='학교 외부')\n",
    "\n",
    "# 레이블 및 제목 설정\n",
    "ax.set_xlabel('시기')\n",
    "ax.set_ylabel('식사 횟수(번)')\n",
    "ax.set_xticks(x)\n",
    "ax.set_xticklabels(labels)\n",
    "ax.legend()\n",
    "\n",
    "ax.bar_label(rects1, padding=3)\n",
    "ax.bar_label(rects2, padding=3)\n",
    "ax.bar_label(rects3, padding=3)\n",
    "\n",
    "fig.tight_layout()\n",
    "\n",
    "plt.show()"
   ]
  },
  {
   "cell_type": "code",
   "execution_count": 228,
   "metadata": {},
   "outputs": [
    {
     "name": "stdout",
     "output_type": "stream",
     "text": [
      "{'집': 25.038880248833596, '학교내부': 35.45878693623639, '학교외부': 39.502332814930014}\n",
      "{'집': 59.71479500891266, '학교내부': 13.19073083778966, '학교외부': 27.094474153297682}\n",
      "{'집': 41.4512093411176, '학교내부': 30.025020850708923, '학교외부': 28.523769808173476}\n"
     ]
    }
   ],
   "source": [
    "ratio_1 = {key: pcounts_1[key]/sum(pcounts_1.values())*100 for key in pcounts_1.keys()}\n",
    "ratio_2 = {key: pcounts_2[key]/sum(pcounts_2.values())*100 for key in pcounts_2.keys()}\n",
    "ratio_5 = {key: pcounts_5[key]/sum(pcounts_5.values())*100 for key in pcounts_5.keys()}\n",
    "pprint(ratio_1)\n",
    "pprint(ratio_2)\n",
    "pprint(ratio_5)"
   ]
  },
  {
   "cell_type": "markdown",
   "metadata": {},
   "source": [
    "### 식생활 만족도의 변화"
   ]
  },
  {
   "cell_type": "markdown",
   "metadata": {},
   "source": [
    "#### 전반적인 식생활 만족도의 변화"
   ]
  },
  {
   "cell_type": "code",
   "execution_count": 229,
   "metadata": {},
   "outputs": [],
   "source": [
    "def get_rates(year):\n",
    "    df = df_dict[year]\n",
    "    filt = df['식사유형'].isin(['아침', '점심', '저녁'])\n",
    "    df = df[filt]\n",
    "    if year == '2018':\n",
    "        rate_map = {'만족': 3, '불만족': -3}\n",
    "    else:\n",
    "        rate_map = {'만족': 3, '약간만족': 1, '약간불만족': -1, '불만족': -3}\n",
    "    df.loc[:, '식사만족도'] = df['식사만족도'].apply(lambda x: rate_map[x])\n",
    "    counts = dict(df['식사만족도'].value_counts())\n",
    "\n",
    "    return counts, round(np.mean(df['식사만족도']), 2)"
   ]
  },
  {
   "cell_type": "code",
   "execution_count": 230,
   "metadata": {},
   "outputs": [
    {
     "name": "stdout",
     "output_type": "stream",
     "text": [
      "코로나-19 이전 식사 만족도: 1.53\n",
      "{-3: 158, 3: 485}\n",
      "코로나-19 중 식사 만족도: 1.93\n",
      "{-3: 9, -1: 42, 1: 190, 3: 320}\n",
      "코로나-19 이후 식사 만족도: 1.83\n",
      "{-3: 16, -1: 120, 1: 415, 3: 648}\n"
     ]
    }
   ],
   "source": [
    "# 코로나-19 이전\n",
    "counts_1, rate_1 = get_rates('2018')\n",
    "print(f\"코로나-19 이전 식사 만족도: {rate_1}\")\n",
    "pprint(counts_1)\n",
    "\n",
    "# 코로나-19 중\n",
    "counts_2, rate_2 = get_rates('2021')\n",
    "print(f\"코로나-19 중 식사 만족도: {rate_2}\")\n",
    "pprint(counts_2)\n",
    "\n",
    "# 코로나-19 이후\n",
    "counts_3, rate_3 = get_rates('2023')\n",
    "counts_4, rate_4 = get_rates('2024')\n",
    "counts_5 = defaultdict(int)\n",
    "rate, size = 0, 0\n",
    "for k, v in counts_3.items():\n",
    "    counts_5[k] += v\n",
    "    size += v\n",
    "    rate += k * v\n",
    "for k, v in counts_4.items():\n",
    "    counts_5[k] += v\n",
    "    size += v\n",
    "    rate += k * v\n",
    "\n",
    "print(f\"코로나-19 이후 식사 만족도: {round(rate/size, 2)}\")\n",
    "pprint(dict(counts_5))"
   ]
  },
  {
   "cell_type": "markdown",
   "metadata": {},
   "source": [
    "#### 식생활 만족도 상관관계 분석"
   ]
  },
  {
   "cell_type": "code",
   "execution_count": 231,
   "metadata": {},
   "outputs": [],
   "source": [
    "def get_correlation(year):\n",
    "    df = df_dict[year]\n",
    "    filt = df['식사유형'].isin(['아침', '점심', '저녁'])\n",
    "    df = df[filt]\n",
    "    df.loc[:, '식사위치'] = df['식사위치'].apply(lambda x: place_map[x])\n",
    "    if year == '2018':\n",
    "        rate_map = {'만족': 3, '불만족': -3}\n",
    "    else:\n",
    "        rate_map = {'만족': 3, '약간만족': 1, '약간불만족': -1, '불만족': -3}\n",
    "    df.loc[:, '식사만족도'] = df['식사만족도'].apply(lambda x: rate_map[x])\n",
    "    df_g = df.groupby(['피험자번호'])\n",
    "    rate, place = [], []\n",
    "    for i, group in df_g:\n",
    "        rate.append(np.mean(group['식사만족도']))\n",
    "        place.append(np.sum(group['식사위치']=='집')/len(group))\n",
    "    \n",
    "    return rate, place\n",
    "\n",
    "def plot_scatter(rate1, place1, rate2, place2, rate3, place3):\n",
    "    import matplotlib.pyplot as plt\n",
    "    plt.rcParams['font.family'] ='AppleGothic'\n",
    "    plt.rcParams['axes.unicode_minus'] =False\n",
    "    coeff_1 = np.corrcoef(place1, rate1)[0, 1]\n",
    "    coeff_2 = np.corrcoef(place2, rate2)[0, 1]\n",
    "    coeff_3 = np.corrcoef(place3, rate3)[0, 1]\n",
    "    # 플롯 그리기\n",
    "    plt.scatter([100*i for i in place1], rate1, marker=\"o\", label=f\"코로나-19 이전\")\n",
    "    plt.scatter([100*i for i in place2], rate2, marker=\"s\", label=f\"코로나-19 중\")\n",
    "    plt.scatter([100*i for i in place3], rate3, marker=\"*\", label=f\"코로나-19 이후\")\n",
    "    plt.legend()\n",
    "    plt.xlabel('집에서의 식사 비율(%)')\n",
    "    plt.ylabel('식사만족도(점)')\n",
    "    plt.xlim(-1,101)\n",
    "    plt.ylim(-3.5,3.5)\n",
    "    plt.grid(True)\n",
    "    plt.show()\n",
    "\n",
    "    return coeff_1, coeff_2, coeff_3"
   ]
  },
  {
   "cell_type": "code",
   "execution_count": 232,
   "metadata": {},
   "outputs": [
    {
     "data": {
      "image/png": "[encoded data removed]",
      "text/plain": [
       "<Figure size 640x480 with 1 Axes>"
      ]
     },
     "metadata": {},
     "output_type": "display_data"
    },
    {
     "name": "stdout",
     "output_type": "stream",
     "text": [
      "0.15, 0.05, 0.01\n"
     ]
    }
   ],
   "source": [
    "# 코로나-19 이전\n",
    "rate_1, place_1 = get_correlation('2018')\n",
    "\n",
    "# 코로나-19 중\n",
    "rate_2, place_2 = get_correlation('2021')\n",
    "\n",
    "# 코로나-19 이후\n",
    "rate_3, place_3 = get_correlation('2023')\n",
    "rate_4, place_4 = get_correlation('2024')\n",
    "\n",
    "coeff1, coeff2, coeff3 = plot_scatter(rate_1, place_1, rate_2, place_2, rate_3+rate_4, place_3+place_4)\n",
    "\n",
    "print(f\"{coeff1:.2f}, {coeff2:.2f}, {coeff3:.2f}\")"
   ]
  }
 ],
 "metadata": {
  "kernelspec": {
   "display_name": "base",
   "language": "python",
   "name": "python3"
  },
  "language_info": {
   "codemirror_mode": {
    "name": "ipython",
    "version": 3
   },
   "file_extension": ".py",
   "mimetype": "text/x-python",
   "name": "python",
   "nbconvert_exporter": "python",
   "pygments_lexer": "ipython3",
   "version": "3.11.5"
  }
 },
 "nbformat": 4,
 "nbformat_minor": 2
}
